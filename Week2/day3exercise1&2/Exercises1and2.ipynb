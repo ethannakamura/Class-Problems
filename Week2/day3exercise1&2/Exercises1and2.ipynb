{
 "cells": [
  {
   "cell_type": "code",
   "execution_count": 2,
   "metadata": {},
   "outputs": [
    {
     "data": {
      "text/plain": [
       "[1, 5, 8, 9]"
      ]
     },
     "execution_count": 2,
     "metadata": {},
     "output_type": "execute_result"
    }
   ],
   "source": [
    "## Exercise 1\n",
    "\n",
    "    # Given a list as a parameter,write a function that returns a list \n",
    "    # of numbers that are less than ten\n",
    "    # For example: Say your input parameter to the function is [1,11,14,5,8,9]...\n",
    "    # Your output should [1,5,8,9]</p>\n",
    "    # Use the following list - l_1 = [1,11,14,5,8,9]\n",
    "\n",
    "\n",
    "l_1 = [1,11,14,5,8,9]\n",
    "\n",
    "def l(a_list):\n",
    "    x = []\n",
    "    for num in a_list:\n",
    "        if num < 10:\n",
    "            x.append(num)\n",
    "    return x\n",
    "l([1,11,14,5,8,9])"
   ]
  },
  {
   "cell_type": "code",
   "execution_count": null,
   "metadata": {},
   "outputs": [],
   "source": [
    "## Exercise 2\n",
    "\n",
    "# Write a function that takes in two lists and returns the two lists merged together and sorted\n",
    "# Hint: You can use the .sort() method"
   ]
  },
  {
   "cell_type": "code",
   "execution_count": 2,
   "metadata": {},
   "outputs": [
    {
     "name": "stdout",
     "output_type": "stream",
     "text": [
      "[1, 2, 3, 3, 4, 4, 5, 5, 6, 6, 7, 8, 10]\n"
     ]
    }
   ],
   "source": [
    "l_1 = [1,2,3,4,5,6]\n",
    "l_2 = [3,4,5,6,7,8,10]\n",
    "\n",
    "def merged(l_3,l_4):\n",
    "    mergedlists = []\n",
    "    for nums in l_3:\n",
    "        mergedlists.append(nums)\n",
    "    for nums2 in l_4:\n",
    "        mergedlists.append(nums2)\n",
    "    return sorted(mergedlists)\n",
    "print(merged([1,2,3,4,5,6,],[3,4,5,6,7,8,10]))"
   ]
  }
 ],
 "metadata": {
  "interpreter": {
   "hash": "aee8b7b246df8f9039afb4144a1f6fd8d2ca17a180786b69acc140d282b71a49"
  },
  "kernelspec": {
   "display_name": "Python 3.9.7 64-bit",
   "language": "python",
   "name": "python3"
  },
  "language_info": {
   "codemirror_mode": {
    "name": "ipython",
    "version": 3
   },
   "file_extension": ".py",
   "mimetype": "text/x-python",
   "name": "python",
   "nbconvert_exporter": "python",
   "pygments_lexer": "ipython3",
   "version": "3.9.7"
  },
  "orig_nbformat": 4
 },
 "nbformat": 4,
 "nbformat_minor": 2
}
