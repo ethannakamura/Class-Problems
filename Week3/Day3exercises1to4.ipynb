{
 "cells": [
  {
   "cell_type": "markdown",
   "metadata": {},
   "source": [
    "### Exercise #1 <br>\n",
    "<p>Filter out all of the empty strings from the list below</p>\n",
    "\n",
    "`Output: ['Argentina', 'San Diego', 'Boston', 'New York']`"
   ]
  },
  {
   "cell_type": "code",
   "execution_count": 1,
   "metadata": {},
   "outputs": [
    {
     "name": "stdout",
     "output_type": "stream",
     "text": [
      "['Argentina', 'San Diego', 'Boston', 'New York']\n"
     ]
    }
   ],
   "source": [
    "places = [\" \",\"Argentina\", \" \", \"San Diego\",\"\",\"  \",\"\",\"Boston\",\"New York\"]\n",
    "\n",
    "def emptyplaces(locations):\n",
    "    if locations.strip() == \"\":\n",
    "        return False\n",
    "    else:\n",
    "        return True\n",
    "newnames = list(filter(emptyplaces,places))\n",
    "print(newnames)\n"
   ]
  },
  {
   "cell_type": "markdown",
   "metadata": {},
   "source": [
    "### Exercise #2 <br>\n",
    "<p>Write an anonymous function that sorts this list by the last name...<br><b>Hint: Use the \".sort()\" method and access the key\"</b></p>\n",
    "\n",
    "`Output: ['Victor aNisimov', 'Gary A.J. Bernstein', 'Joel Carter', 'Andrew P. Garfield', 'David hassELHOFF']`"
   ]
  },
  {
   "cell_type": "code",
   "execution_count": 2,
   "metadata": {},
   "outputs": [
    {
     "name": "stdout",
     "output_type": "stream",
     "text": [
      "(<function <lambda> at 0x7f82686d19d0>,)\n"
     ]
    }
   ],
   "source": [
    "author = [\"Joel Carter\", \"Victor aNisimov\", \"Andrew P. Garfield\",\"David hassELHOFF\",\"Gary A.J. Bernstein\"]\n",
    "\n",
    "newl = lambda author: author.sort(\" \"),# what value goes here\n",
    "print(newl)\n",
    "# confused on accessing the key and likely writing the syntax for this problem. \n",
    "# I understand key and value pairs but this is a list? I don't recall a list having a key value pair? \n",
    "# Not sure how to access the second value in each string. Will wait for class explanation of this.\n"
   ]
  },
  {
   "cell_type": "markdown",
   "metadata": {},
   "source": [
    "Sam's Exercise 2"
   ]
  },
  {
   "cell_type": "code",
   "execution_count": null,
   "metadata": {},
   "outputs": [],
   "source": [
    "author = [\"Joel Carter\", \"Victor aNisimov\", \"Andrew P. Garfield\",\"David hassELHOFF\",\"Gary A.J. Bernstein\"]\n",
    "\n",
    "\n",
    "author = [\"Carter\", \"aNisimov\", \"Garfield\",\"hassELHOFF\",\"Bernstein\"]\n",
    "# a number of different steps have to occur here\n",
    "# our answer doesnt want to chagne any of the original capitalization\n",
    "# but the capitalization affects sorting\n",
    "x = ['Carter', 'aNisimov', 'Garfield', 'hassElHOFF', 'Bernstein']\n",
    "sorted(x)\n",
    "\n",
    "# how can I access just the last names to sort by - the hint is helpful\n",
    "# how can I fix the capitalization for sorting not permanently modify it\n",
    "# how do i accomplish the sorting\n",
    "\n",
    "#our hint is telling us to use the .sort() to access the key parameter\n",
    "# i want to define a lamba function that we can sort by\n",
    "# so my lambda function should do the following\n",
    "\n",
    "# input: full name - 'Victor aNisimov'\n",
    "#output: just the capitalized last name - 'Anisimov'\n",
    "# making this function the key parameter for .sort() will let us sort by that capitalied last name\n",
    "# without permanently altering the list\n",
    "\n",
    "def lastname(name):\n",
    "    #variable assignment based on list of names: \n",
    "    # 1) ln = name.split()[1].title()\n",
    "    #testprint(ln)\n",
    "    # 2) ln = ln[-1]\n",
    "    # checking the value printed and split from the list\n",
    "    # 3) print(ln)\n",
    "    # uppercase first letter\n",
    "    # 4) ln = ln.title()\n",
    "    #print(ln) sed to test\n",
    "    #dont even need ln to simplify it return \"ln\"\n",
    "    return ln \n",
    "\n",
    "lambda name: name.split()[1].title()\n",
    "\n",
    "lastname('Victor aNisimov')\n",
    "#we want the function to sort by the first letter of the last name, so we can \n",
    "#say the key parameter accepts a funciton and the sort method sorts by the returned value of the\n",
    "#key function. We REDEFINE the key function.\n",
    "author.sort(key=lambda name: name.split()[-1].title())\n",
    "print(author)\n",
    "\n",
    "#test lastname sample input 1st step\n",
    "#lastname('Victor anNisimov') test split word in two it worked! \n",
    "#chain off the back of it \n",
    "# Index into split string to chain off the back end"
   ]
  },
  {
   "cell_type": "markdown",
   "metadata": {},
   "source": [
    "### Exercise #3 <br>\n",
    "<p>Convert the list below from Celsius to Farhenheit, using the map function with a lambda...</p>\n",
    "\n",
    "`Output: [('Nashua', 89.6), ('Boston', 53.6), ('Los Angelos', 111.2), ('Miami', 84.2)]\n",
    "`"
   ]
  },
  {
   "cell_type": "code",
   "execution_count": 4,
   "metadata": {},
   "outputs": [
    {
     "name": "stdout",
     "output_type": "stream",
     "text": [
      "89.6\n"
     ]
    },
    {
     "data": {
      "text/plain": [
       "('Nashua', 89.6)"
      ]
     },
     "execution_count": 4,
     "metadata": {},
     "output_type": "execute_result"
    }
   ],
   "source": [
    "# F = (9/5)*C + 32\n",
    "places = [('Nashua',32),(\"Boston\",12),(\"Los Angelos\",44),(\"Miami\",29)]\n",
    "\n",
    "#tuples have two indicies\n",
    "#this is a list of tuples\n",
    "#tuples are immutable\n",
    "#how do I change this tuple\n",
    "#create a new tuple to throw in its place\n",
    "\n",
    "#input ('Nashua', 32) a tuple containg a strin gand an integer\n",
    "#output (\"nashua', 89.6) a tuple containing a string and a float\n",
    "def modTup(place):\n",
    "    pname = place[0]\n",
    "    temp = place[1]\n",
    "    temp = (9/5)*temp+32\n",
    "    print(temp)\n",
    "    newtuple = (pname, temp)\n",
    "    return newtuple\n",
    "\n",
    "    #simplify steps: THOS SOLVES THE ANSWER!!\n",
    "    # def modtup(place):\n",
    "    #   pname = place[0]\n",
    "    #   temp = place[1]\n",
    "    #   temp = (9/5)*temp+32\n",
    "    #   print(temp)\n",
    "    #   newtuple = (pname, temp)\n",
    "    # answer - list(map(lambda place: (place[0], (9/5)*temp+32, places))\n",
    "    #\n",
    "    # floop = []\n",
    "    # fx = lambda place: (place[0], (9/5)*place[1]+32)\n",
    "    # for p in places:\n",
    "    #   floop.append(fx(p))\n",
    "    # print(floop)\n",
    "\n",
    "modTup(('Nashua', 32))"
   ]
  },
  {
   "cell_type": "markdown",
   "metadata": {},
   "source": [
    "### Exercise #4 <br>\n",
    "<p>Write a recursion function to perform the fibonacci sequence up to the number passed in.</p>\n",
    "\n",
    "`Output for fib(5) => \n",
    "Iteration 0: 1\n",
    "Iteration 1: 1\n",
    "Iteration 2: 2\n",
    "Iteration 3: 3\n",
    "Iteration 4: 5\n",
    "Iteration 5: 8`"
   ]
  },
  {
   "cell_type": "code",
   "execution_count": 6,
   "metadata": {},
   "outputs": [
    {
     "data": {
      "text/plain": [
       "[1, 1, 2, 3, 5, 8, 13, 21]"
      ]
     },
     "execution_count": 6,
     "metadata": {},
     "output_type": "execute_result"
    }
   ],
   "source": [
    "# 1 1 2 3 5 8 13 21 34 55\n",
    "\n",
    "# n + n-1 + n-2\n",
    "\n",
    "# the nth number is n-1 + fib(n-2)\n",
    "\n",
    "def recurseFib(n):\n",
    "    if n <=1:\n",
    "        return 1\n",
    "    else: \n",
    "        return recurseFib(n-1) + recurseFib(n-2)\n",
    "\n",
    "recurseFib(5)\n",
    "\n",
    "list(map(lambda x: recurseFib(x), range(8)))"
   ]
  }
 ],
 "metadata": {
  "interpreter": {
   "hash": "aee8b7b246df8f9039afb4144a1f6fd8d2ca17a180786b69acc140d282b71a49"
  },
  "kernelspec": {
   "display_name": "Python 3.9.7 64-bit",
   "language": "python",
   "name": "python3"
  },
  "language_info": {
   "codemirror_mode": {
    "name": "ipython",
    "version": 3
   },
   "file_extension": ".py",
   "mimetype": "text/x-python",
   "name": "python",
   "nbconvert_exporter": "python",
   "pygments_lexer": "ipython3",
   "version": "3.9.7"
  },
  "orig_nbformat": 4
 },
 "nbformat": 4,
 "nbformat_minor": 2
}
