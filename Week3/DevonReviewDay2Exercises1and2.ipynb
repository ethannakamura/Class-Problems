{
 "cells": [
  {
   "cell_type": "markdown",
   "metadata": {},
   "source": [
    "### Exercise 1 - Turn the shopping cart program from yesterday into an object-oriented program"
   ]
  },
  {
   "cell_type": "code",
   "execution_count": 2,
   "metadata": {},
   "outputs": [
    {
     "ename": "IndentationError",
     "evalue": "expected an indented block (1251151884.py, line 51)",
     "output_type": "error",
     "traceback": [
      "\u001b[0;36m  File \u001b[0;32m\"/var/folders/72/g1j7yk411mv9snffyg048wv00000gn/T/ipykernel_31809/1251151884.py\"\u001b[0;36m, line \u001b[0;32m51\u001b[0m\n\u001b[0;31m    def showCart(self):\u001b[0m\n\u001b[0m    ^\u001b[0m\n\u001b[0;31mIndentationError\u001b[0m\u001b[0;31m:\u001b[0m expected an indented block\n"
     ]
    }
   ],
   "source": [
    "# redo previously built shopping cart into an OOP shopping cart.\n",
    "# Shopping cart needs:\n",
    "# add functionality (letting users add items)\n",
    "# remove functionality (letting users remove items)\n",
    "# show functionality (letting users see everything currently in the cart)\n",
    "# loop through these functionalities, until user wanted to quit\n",
    "\n",
    "# Devon writes out all funcitonalities first (you're doing something to a \n",
    "# string (putting it into a list,)) \n",
    "# She uses the functionalities to make a method inside of the class\n",
    "\n",
    "#our Iterable is a list, ITEM is the palceholder for every item in that iterable (list)\n",
    "#self.items is our actual list\n",
    "#self is a variable to use while we're in the class Cart\n",
    "class Cart():\n",
    "#she puts items so that when she initializes an item its easier\n",
    "    def __init__(self, items):\n",
    "    #if you put items here self.items = items she'd have to put the empy list \n",
    "    # in the bottom function call\n",
    "        self.items = items\n",
    "    #add method\n",
    "    def addToCart(self):\n",
    "        while True:\n",
    "            groceries = input(\"What would you like to add? (Say 'quit' to stop shopping)\")\n",
    "            if groceries.lower() == 'quit':\n",
    "                break\n",
    "            else:\n",
    "                self.items.append(groceries)\n",
    "                continue \n",
    "                #continue starts the while loop over\n",
    "\n",
    "    #remove method\n",
    "    def removeFromCart(self):\n",
    "        while True:\n",
    "            delete = input(\"What would you like to remove? (Say 'quit' to not add anything)\")\n",
    "            #.lower auto changes it to lowercase quit\n",
    "            if delete.lower() == 'quit':\n",
    "                break\n",
    "            elif delete.lower() != 'quit':\n",
    "                #checking to see if its in our cart\n",
    "                #if delete.lower() not in self.items:\n",
    "                    #print(\"\\n Opps! That's not in your cart! Please try again!\")\n",
    "                    #continue\n",
    "                #elif delete in self.items:\n",
    "                    #for item in self.items:\n",
    "                        #if item == delete:\n",
    "                            #self.items.remove(delete)\n",
    "                    #print(f\"You removed {delete} from your cart!\")\n",
    "    #show method\n",
    "    def showCart(self):\n",
    "        print(\"You have the following items in you cart:\")\n",
    "    #items is going to be a list \n",
    "        for item in self.items:\n",
    "            print(item)\n",
    "#make an instance(object) of the CART CLASS\n",
    "#my cart is an object\n",
    "#need this for the init funciton \n",
    "#make this cart function after making the init method\n",
    "mycart = Cart([])\n",
    "\n",
    "#making method to use class methods\n",
    "def run():\n"
   ]
  },
  {
   "cell_type": "code",
   "execution_count": 3,
   "metadata": {},
   "outputs": [
    {
     "name": "stdout",
     "output_type": "stream",
     "text": [
      "Opps! That didn't work! Please try again!\n",
      "You have the following items in your cart:\n",
      "Thanks for shopping\n"
     ]
    }
   ],
   "source": [
    "#redo previously built shopping cart into an OOP shopping cart.\n",
    "#Shopping cart needs:\n",
    "#add functionality(letting users add items)\n",
    "#remove functionality(letting users remove items)\n",
    "#show functionality(letting users see everything currently in the cart)\n",
    "#loop through these functionalities, until user wanted to quit\n",
    "class Cart():\n",
    "    #init method\n",
    "    def __init__(self, items):\n",
    "        self.items = items\n",
    "    #add method\n",
    "    def addToCart(self):\n",
    "        while True:\n",
    "            products = input(\"What would you like to add? (Say 'quit' to not add anything)\")\n",
    "            if products.lower() == 'quit':\n",
    "                break\n",
    "            else:\n",
    "                self.items.append(products)\n",
    "                continue\n",
    "    #remove method\n",
    "    def removeFromCart(self):\n",
    "        while True:\n",
    "            delete = input(\"What would you like to remove? (Say 'quit' to not add anything)\")\n",
    "            if delete.lower() == 'quit':\n",
    "                break\n",
    "            elif delete.lower() != 'quit':\n",
    "                if delete.lower() not in self.items:\n",
    "                    print(\"\\n Opps! That's not in your cart! Please try again!\") #\\n = new line\n",
    "                    continue\n",
    "                elif delete in self.items:\n",
    "                    self.items.remove(delete)\n",
    "                    print(f\"You removed {delete} form your cart!\")\n",
    "    #show method\n",
    "    def showCart(self):\n",
    "        print(\"You have the following items in your cart:\")\n",
    "        for item in self.items:\n",
    "            print(item)\n",
    "\n",
    "#Instance of Cart class\n",
    "mycart = Cart([])\n",
    "\n",
    "#making method to use class methods\n",
    "def run():\n",
    "    while True:\n",
    "        response = input(\"What would you like to do? (add/remove or quit)\")\n",
    "        if response.lower() == 'quit':\n",
    "            mycart.showCart()\n",
    "            print(\"Thanks for shopping\")\n",
    "            break\n",
    "        elif response.lower() == 'add':\n",
    "            mycart.addToCart()\n",
    "            continue\n",
    "        elif response.lower() == 'remove':\n",
    "            mycart.removeFromCart()\n",
    "            continue\n",
    "        else:\n",
    "            print(\"Opps! That didn't work! Please try again!\")\n",
    "            continue\n",
    "            \n",
    "run()"
   ]
  }
 ],
 "metadata": {
  "interpreter": {
   "hash": "aee8b7b246df8f9039afb4144a1f6fd8d2ca17a180786b69acc140d282b71a49"
  },
  "kernelspec": {
   "display_name": "Python 3.9.7 64-bit",
   "language": "python",
   "name": "python3"
  },
  "language_info": {
   "codemirror_mode": {
    "name": "ipython",
    "version": 3
   },
   "file_extension": ".py",
   "mimetype": "text/x-python",
   "name": "python",
   "nbconvert_exporter": "python",
   "pygments_lexer": "ipython3",
   "version": "3.9.7"
  },
  "orig_nbformat": 4
 },
 "nbformat": 4,
 "nbformat_minor": 2
}
