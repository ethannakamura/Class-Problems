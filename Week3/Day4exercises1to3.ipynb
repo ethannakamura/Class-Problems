{
 "cells": [
  {
   "cell_type": "markdown",
   "metadata": {},
   "source": [
    "### Exercise #1 <br>\n",
    "<p>Reverse the list below in-place using an in-place algorithm.<br>For extra credit: Reverse the strings at the same time.</p>"
   ]
  },
  {
   "cell_type": "code",
   "execution_count": 35,
   "metadata": {},
   "outputs": [
    {
     "name": "stdout",
     "output_type": "stream",
     "text": [
      "Before you like tacos: ['this', 'is', 'a', 'sentence', '.']\n",
      "After you discover how great tacos are: ['.', 'sentence', 'a', 'is', 'this']\n"
     ]
    }
   ],
   "source": [
    "def swap(wlist,a,b,c,d,e):\n",
    "    wlist[a],wlist[b],wlist[c],wlist[d],wlist[e] = wlist[e],wlist[d],wlist[c],wlist[b],wlist[a]\n",
    "    return wlist\n",
    "\n",
    "words = ['this' , 'is', 'a', 'sentence', '.']\n",
    "print(f\"Before you like tacos: {words}\")\n",
    "\n",
    "# swap(wlist,a,b,c,d,e))\n",
    "swap(words,-1,-2,-3,-4,-5)\n",
    "\n",
    "print(f\"After you discover how great tacos are: {words}\")"
   ]
  },
  {
   "cell_type": "markdown",
   "metadata": {},
   "source": [
    "### Exercise #2 <br>\n",
    "<p>Create a function that counts how many distinct words are in the string below, then outputs a dictionary with the words as the key and the value as the amount of times that word appears in the string.<br>Should output:<br>{'a': 5,<br>\n",
    " 'abstract': 1,<br>\n",
    " 'an': 3,<br>\n",
    " 'array': 2, ... etc...</p>"
   ]
  },
  {
   "cell_type": "code",
   "execution_count": 32,
   "metadata": {},
   "outputs": [
    {
     "name": "stdout",
     "output_type": "stream",
     "text": [
      "{'In': 1, 'computing,': 1, 'a': 4, 'hash': 4, 'table': 2, 'map': 2, 'is': 1, 'data': 2, 'structure': 2, 'which': 2, 'implements': 1, 'an': 3, 'associative': 1, 'array': 2, 'abstract': 1, 'type,': 1, 'that': 1, 'can': 2, 'keys': 1, 'to': 2, 'values.': 1, 'A': 1, 'uses': 1, 'function': 1, 'compute': 1, 'index': 1, 'into': 1, 'of': 1, 'buckets': 1, 'or': 1, 'slots': 1, 'from': 1, 'the': 1, 'desired': 1, 'value': 1, 'be': 1, 'found': 1}\n"
     ]
    }
   ],
   "source": [
    "words = 'In computing, a hash table hash map is a data structure which implements an associative array abstract data type, a structure that can map keys to values. A hash table uses a hash function to compute an index into an array of buckets or slots from which the desired value can be found'\n",
    "#counts number of words in the string\n",
    "#output: dictionary, key = words, value = number of times the word appears in string\n",
    "\n",
    "#can add additional input into the parenthesis / print(words.split(\",\"))\n",
    "\n",
    "def word_count(str):\n",
    "    total = {}\n",
    "    words = str.split()\n",
    "\n",
    "    for word in words:\n",
    "        if word in total:\n",
    "            total[word]+= 1\n",
    "        else:\n",
    "            total[word] = 1\n",
    "    return total\n",
    "\n",
    "print(word_count('In computing, a hash table hash map is a data structure which implements an associative array abstract data type, a structure that can map keys to values. A hash table uses a hash function to compute an index into an array of buckets or slots from which the desired value can be found'))"
   ]
  },
  {
   "cell_type": "markdown",
   "metadata": {},
   "source": [
    "## Exercise #3\n",
    "\n",
    "Write a program to implement a Linear Search Algorithm. Also in a comment, write the Time Complexity of the following algorithm.\n",
    "\n",
    "#### Hint: Linear Searching will require searching a list for a given number."
   ]
  },
  {
   "cell_type": "code",
   "execution_count": 33,
   "metadata": {},
   "outputs": [
    {
     "name": "stdout",
     "output_type": "stream",
     "text": [
      "70\n"
     ]
    }
   ],
   "source": [
    "nums_list = [10,23,45,70,11,15]\n",
    "target = 70\n",
    "\n",
    "# If number is not present return -1\n",
    "# param placehodler over what you want to bring in\n",
    "# create not just one example but build a param and program that represents the \n",
    "# example but that can be the placeholder for many different outputs to solve the \n",
    "# question\n",
    "\n",
    "def lsearch(lst, tgt):\n",
    "    for num in lst:\n",
    "        if num == tgt:\n",
    "            return num\n",
    "    else:\n",
    "        return -1\n",
    "\n",
    "print(lsearch(nums_list,target))\n",
    "\n",
    "#this is linear so this is O(N)"
   ]
  }
 ],
 "metadata": {
  "interpreter": {
   "hash": "aee8b7b246df8f9039afb4144a1f6fd8d2ca17a180786b69acc140d282b71a49"
  },
  "kernelspec": {
   "display_name": "Python 3.9.7 64-bit",
   "language": "python",
   "name": "python3"
  },
  "language_info": {
   "codemirror_mode": {
    "name": "ipython",
    "version": 3
   },
   "file_extension": ".py",
   "mimetype": "text/x-python",
   "name": "python",
   "nbconvert_exporter": "python",
   "pygments_lexer": "ipython3",
   "version": "3.9.7"
  },
  "orig_nbformat": 4
 },
 "nbformat": 4,
 "nbformat_minor": 2
}
