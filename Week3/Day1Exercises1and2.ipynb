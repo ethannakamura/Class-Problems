{
 "cells": [
  {
   "cell_type": "markdown",
   "metadata": {},
   "source": [
    "### 1) Build a Shopping Cart <br>\n",
    "<p><b>You can use either lists or dictionaries. The program should have the following capabilities:</b><br><br>\n",
    "1) Takes in input <br>\n",
    "2) Stores user input into a dictionary or list <br>\n",
    "3) The User can add or delete items <br>\n",
    "4) The User can see current shopping list <br>\n",
    "5) The program Loops until user 'quits' <br>\n",
    "6) Upon quiting the program, print out all items in the user's list <br>\n",
    "</p>"
   ]
  },
  {
   "cell_type": "code",
   "execution_count": 7,
   "metadata": {},
   "outputs": [
    {
     "name": "stdout",
     "output_type": "stream",
     "text": [
      "House area calculator activated\n",
      "The square footage of this house is 9.0 sq. ft. \n"
     ]
    }
   ],
   "source": [
    "#user can add, delete, or see or quit\n",
    "# Ask the user four bits of input: Do you want to : Show/Add/Remove or Quit?\n",
    "\n",
    "import homework_module\n",
    "#reference them as homework_module.function_name()\n",
    "#exampel of importing the entire file\n",
    "\n",
    "from homework_module import circumference\n",
    "#just use circumference()\n",
    "#example of importing just one function\n",
    "\n",
    "# step 1 deterimine if user wants circumference or house area\n",
    "# step 2 ask for relevant inputs\n",
    "# step 3 call imported funcitons\n",
    "# step 4 print answer \n",
    "\n",
    "# Create main function to create the cart and continue to loop and ask user for input\n",
    "def run():\n",
    "    cart = []\n",
    "    while True:\n",
    "        response = input('What would you like to do? Add/Remove/Show/Clear or Quit? ').lower()\n",
    "        if response == 'quit':\n",
    "            print('Thank you for shopping with us!')\n",
    "            break\n",
    "\n",
    "        elif response == 'add':\n",
    "            # code for adding items to cart\n",
    "            add_item(cart)\n",
    "        elif response == 'remove':\n",
    "            # remove item from cart\n",
    "            item_to_remove = input('What item would you like to remove from your cart? ')\n",
    "            if item_to_remove in cart:\n",
    "                cart.remove(item_to_remove)\n",
    "                print(f'{item_to_remove} has been remove from your cart.')\n",
    "            else:\n",
    "                print('That item is not in your cart.')\n",
    "        elif response == 'show':\n",
    "            # show all items in cart\n",
    "            print('Here is your current cart:')\n",
    "            for item in cart:\n",
    "                print(item)\n",
    "        elif response == 'clear':\n",
    "            # clear all items from the cart\n",
    "            cart.clear()\n",
    "            print('Cart has been cleared.')\n",
    "        else:\n",
    "            print('That is not a valid response. Please try again.')\n",
    "    # print out all items in cart\n",
    "    if cart:\n",
    "        print('Here is what you purchased:')\n",
    "        for i in range(len(cart)):\n",
    "            print(f'{i+1}. {cart[i]}')\n",
    "\n",
    "run()\n"
   ]
  },
  {
   "cell_type": "markdown",
   "metadata": {},
   "source": [
    "EXERCISE #1 SAM'S ANSWER"
   ]
  },
  {
   "cell_type": "code",
   "execution_count": 1,
   "metadata": {},
   "outputs": [
    {
     "name": "stdout",
     "output_type": "stream",
     "text": [
      "bread has been added to your cart.\n",
      "Your cart currently contains:\n",
      ":['bread']\n",
      "bread was successfully removed from your cart.\n",
      "Invalid input, please try again\n",
      "Invalid input, please try again\n",
      "Invalid input, please try again\n",
      "Invalid input, please try again\n",
      "Invalid input, please try again\n",
      "Thank you for shopping\n",
      "f Your cart currently contains:\n",
      "{cart}\n"
     ]
    }
   ],
   "source": [
    "#Loop\n",
    "#Structure to store our Items\n",
    "#User input\n",
    "#Functions for adding and deleting \n",
    "\n",
    "#Simple shopping car example\n",
    "#Focus on one thing at a time\n",
    "#adding,deleting,seeing, \n",
    "\n",
    "#wrote penguin in cart as a placeholder to test scripting as writing\n",
    "cart = []\n",
    "\n",
    "#step 3 add while loop, then indent everything after\n",
    "while True:\n",
    "    choice = input('What would you like to do?\\n[1] Show Current Cart [2] Add Item \\n [3] Remove item \\n [4] Quit \\n')\n",
    "    if choice == '1':\n",
    "        #step1 wrote - print('show') run script while you further expand on each problem\n",
    "        #step3 new print statement\n",
    "        print(f'Your cart currently contains:\\n{cart}')\n",
    "    elif choice == '2':\n",
    "    #step1 wrote - print('add') run script while you further expand on each problem\n",
    "    #step2 added - new item. cart.append, new print statement\n",
    "        newitem = input('What would you like to add to your cart?')\n",
    "        cart.append(newitem)\n",
    "        print(f'{newitem} has been added to your cart.')\n",
    "    elif choice == '3':\n",
    "    #step1 wrote - print('remove') run script while you further expand on each problem\n",
    "        print(f'Your cart currently contains:\\n:{cart}')\n",
    "        remov = input('What would you like to remove from your cart? (capitalization matters)')\n",
    "        try:\n",
    "            cart.remove(remov)\n",
    "            print(f'{remov} was successfully removed from your cart.')\n",
    "        except:\n",
    "            print(f'{remov} was not in your cart.')\n",
    "    elif choice == '4':\n",
    "        #step1 wrote - print('quit') run script while you further expand on each problem\n",
    "        #step2 added two print statements\n",
    "        print('Thank you for shopping')\n",
    "        print('fYour cart currently contains:\\n{cart}')\n",
    "        break\n",
    "    #step 3 added break, remove penguin, and you can start testing items like normal\n",
    "    else:\n",
    "        print('Invalid input, please try again')\n"
   ]
  },
  {
   "cell_type": "markdown",
   "metadata": {},
   "source": [
    "### 2) Create a Module in VS Code and Import It into jupyter notebook <br>\n",
    "<p><b>Module should have the following capabilities:</b><br><br>\n",
    "1) Has a function to calculate the square footage of a house <br>\n",
    "    <b>Reminder of Formula: Length X Width == Area<br>\n",
    "        <hr>\n",
    "2) Has a function to calculate the circumference of a circle <br><br>\n",
    "<b>Program in Jupyter Notebook should take in user input and use imported functions to calculate a circle's circumference or a houses square footage</b>\n",
    "</p>"
   ]
  },
  {
   "cell_type": "markdown",
   "metadata": {},
   "source": [
    "EXERCISE #2 SAM'S ANSWER"
   ]
  },
  {
   "cell_type": "code",
   "execution_count": 4,
   "metadata": {},
   "outputs": [
    {
     "name": "stdout",
     "output_type": "stream",
     "text": [
      "circumference\n",
      "Circle circumference finder activated.\n",
      "4.0 <class 'float'>\n"
     ]
    },
    {
     "ename": "NameError",
     "evalue": "name 'circumference' is not defined",
     "output_type": "error",
     "traceback": [
      "\u001b[0;31m---------------------------------------------------------------------------\u001b[0m",
      "\u001b[0;31mNameError\u001b[0m                                 Traceback (most recent call last)",
      "\u001b[0;32m/var/folders/72/g1j7yk411mv9snffyg048wv00000gn/T/ipykernel_19718/2388587529.py\u001b[0m in \u001b[0;36m<module>\u001b[0;34m\u001b[0m\n\u001b[1;32m      7\u001b[0m     \u001b[0mradius\u001b[0m \u001b[0;34m=\u001b[0m \u001b[0mfloat\u001b[0m\u001b[0;34m(\u001b[0m\u001b[0minput\u001b[0m\u001b[0;34m(\u001b[0m\u001b[0;34m'What is the radius of the circle? '\u001b[0m\u001b[0;34m)\u001b[0m\u001b[0;34m)\u001b[0m\u001b[0;34m\u001b[0m\u001b[0;34m\u001b[0m\u001b[0m\n\u001b[1;32m      8\u001b[0m     \u001b[0mprint\u001b[0m\u001b[0;34m(\u001b[0m\u001b[0mradius\u001b[0m\u001b[0;34m,\u001b[0m \u001b[0mtype\u001b[0m\u001b[0;34m(\u001b[0m\u001b[0mradius\u001b[0m\u001b[0;34m)\u001b[0m\u001b[0;34m)\u001b[0m\u001b[0;34m\u001b[0m\u001b[0;34m\u001b[0m\u001b[0m\n\u001b[0;32m----> 9\u001b[0;31m     \u001b[0mans\u001b[0m \u001b[0;34m=\u001b[0m \u001b[0mcircumference\u001b[0m\u001b[0;34m(\u001b[0m\u001b[0mradius\u001b[0m\u001b[0;34m)\u001b[0m\u001b[0;34m\u001b[0m\u001b[0;34m\u001b[0m\u001b[0m\n\u001b[0m\u001b[1;32m     10\u001b[0m     \u001b[0mprint\u001b[0m\u001b[0;34m(\u001b[0m\u001b[0;34mf'The circumference of a circle with radius {radius} is {ans}'\u001b[0m\u001b[0;34m)\u001b[0m\u001b[0;34m\u001b[0m\u001b[0;34m\u001b[0m\u001b[0m\n\u001b[1;32m     11\u001b[0m \u001b[0;32melif\u001b[0m \u001b[0mwant\u001b[0m \u001b[0;34m==\u001b[0m \u001b[0;34m'a'\u001b[0m\u001b[0;34m:\u001b[0m\u001b[0;34m\u001b[0m\u001b[0;34m\u001b[0m\u001b[0m\n",
      "\u001b[0;31mNameError\u001b[0m: name 'circumference' is not defined"
     ]
    }
   ],
   "source": [
    "want = input('Do you want to calculate circumference or house area? (c for circumference, a for house area')\n",
    "if want == 'c':\n",
    "    print('circumference')\n",
    "    #do the circumference stuff\n",
    "    #what do we need to use our circumference function? answer: a radius\n",
    "    print('Circle circumference finder activated.')\n",
    "    radius = float(input('What is the radius of the circle? '))\n",
    "    print(radius, type(radius))\n",
    "    ans = circumference(radius)\n",
    "    print(f'The circumference of a circle with radius {radius} is {ans}')\n",
    "elif want == 'a':\n",
    "    #do house area\n",
    "    print('House area calculator activated')\n",
    "    length = float(input('What is the length of the house (in ft)? '))\n",
    "    width = float(input('What is the width of th ehouse (in ft)? '))\n",
    "    ans = homework_module.squarefootage(length, width)\n",
    "    print(f'The square footage of this house is {ans} sq. ft. ')\n",
    "else:\n",
    "    print('Invalid input, try again.')\n",
    "\n",
    "def add_item(cart):\n",
    "    item = input('What would you like to add to your cart? ')\n",
    "    cart.append(item)\n",
    "    print(f'{item} has been added to your cart.')"
   ]
  }
 ],
 "metadata": {
  "interpreter": {
   "hash": "aee8b7b246df8f9039afb4144a1f6fd8d2ca17a180786b69acc140d282b71a49"
  },
  "kernelspec": {
   "display_name": "Python 3.9.7 64-bit",
   "language": "python",
   "name": "python3"
  },
  "language_info": {
   "codemirror_mode": {
    "name": "ipython",
    "version": 3
   },
   "file_extension": ".py",
   "mimetype": "text/x-python",
   "name": "python",
   "nbconvert_exporter": "python",
   "pygments_lexer": "ipython3",
   "version": "3.9.7"
  },
  "orig_nbformat": 4
 },
 "nbformat": 4,
 "nbformat_minor": 2
}
