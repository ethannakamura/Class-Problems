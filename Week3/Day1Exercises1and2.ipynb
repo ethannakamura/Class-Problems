{
 "cells": [
  {
   "cell_type": "markdown",
   "metadata": {},
   "source": [
    "### 1) Build a Shopping Cart <br>\n",
    "<p><b>You can use either lists or dictionaries. The program should have the following capabilities:</b><br><br>\n",
    "1) Takes in input <br>\n",
    "2) Stores user input into a dictionary or list <br>\n",
    "3) The User can add or delete items <br>\n",
    "4) The User can see current shopping list <br>\n",
    "5) The program Loops until user 'quits' <br>\n",
    "6) Upon quiting the program, print out all items in the user's list <br>\n",
    "</p>"
   ]
  },
  {
   "cell_type": "code",
   "execution_count": 17,
   "metadata": {},
   "outputs": [
    {
     "name": "stdout",
     "output_type": "stream",
     "text": [
      "strawberries has been added to your cart.\n",
      "popcorn has been added to your cart.\n",
      "chocolate has been added to your cart.\n",
      "Thank you for shopping with us!\n",
      "Here is what you purchased:\n",
      "1. strawberries\n",
      "2. popcorn\n",
      "3. chocolate\n"
     ]
    }
   ],
   "source": [
    "#user can add, delete, or see or quit\n",
    "# Ask the user four bits of input: Do you want to : Show/Add/Remove or Quit?\n",
    "\n",
    "\n",
    "def add_item(cart):\n",
    "    item = input('What would you like to add to your cart? ')\n",
    "    cart.append(item)\n",
    "    print(f'{item} has been added to your cart.')\n",
    "\n",
    "# Create main function to create the cart and continue to loop and ask user for input\n",
    "def run():\n",
    "    cart = []\n",
    "    while True:\n",
    "        response = input('What would you like to do? Add/Remove/Show/Clear or Quit? ').lower()\n",
    "        if response == 'quit':\n",
    "            print('Thank you for shopping with us!')\n",
    "            break\n",
    "\n",
    "        elif response == 'add':\n",
    "            # code for adding items to cart\n",
    "            add_item(cart)\n",
    "        elif response == 'remove':\n",
    "            # remove item from cart\n",
    "            item_to_remove = input('What item would you like to remove from your cart? ')\n",
    "            if item_to_remove in cart:\n",
    "                cart.remove(item_to_remove)\n",
    "                print(f'{item_to_remove} has been remove from your cart.')\n",
    "            else:\n",
    "                print('That item is not in your cart.')\n",
    "        elif response == 'show':\n",
    "            # show all items in cart\n",
    "            print('Here is your current cart:')\n",
    "            for item in cart:\n",
    "                print(item)\n",
    "        elif response == 'clear':\n",
    "            # clear all items from the cart\n",
    "            cart.clear()\n",
    "            print('Cart has been cleared.')\n",
    "        else:\n",
    "            print('That is not a valid response. Please try again.')\n",
    "    # print out all items in cart\n",
    "    if cart:\n",
    "        print('Here is what you purchased:')\n",
    "        for i in range(len(cart)):\n",
    "            print(f'{i+1}. {cart[i]}')\n",
    "\n",
    "run()"
   ]
  },
  {
   "cell_type": "markdown",
   "metadata": {},
   "source": [
    "### 2) Create a Module in VS Code and Import It into jupyter notebook <br>\n",
    "<p><b>Module should have the following capabilities:</b><br><br>\n",
    "1) Has a function to calculate the square footage of a house <br>\n",
    "    <b>Reminder of Formula: Length X Width == Area<br>\n",
    "        <hr>\n",
    "2) Has a function to calculate the circumference of a circle <br><br>\n",
    "<b>Program in Jupyter Notebook should take in user input and use imported functions to calculate a circle's circumference or a houses square footage</b>\n",
    "</p>"
   ]
  },
  {
   "cell_type": "code",
   "execution_count": null,
   "metadata": {},
   "outputs": [],
   "source": [
    "import homework "
   ]
  },
  {
   "cell_type": "code",
   "execution_count": 18,
   "metadata": {},
   "outputs": [
    {
     "ename": "NameError",
     "evalue": "name 'homework' is not defined",
     "output_type": "error",
     "traceback": [
      "\u001b[0;31m---------------------------------------------------------------------------\u001b[0m",
      "\u001b[0;31mNameError\u001b[0m                                 Traceback (most recent call last)",
      "\u001b[0;32m/var/folders/72/g1j7yk411mv9snffyg048wv00000gn/T/ipykernel_25065/433585354.py\u001b[0m in \u001b[0;36m<module>\u001b[0;34m\u001b[0m\n\u001b[0;32m----> 1\u001b[0;31m \u001b[0mhomework\u001b[0m\u001b[0;34m.\u001b[0m\u001b[0msquare_footage\u001b[0m\u001b[0;34m(\u001b[0m\u001b[0;36m10\u001b[0m\u001b[0;34m,\u001b[0m\u001b[0;36m30\u001b[0m\u001b[0;34m)\u001b[0m\u001b[0;34m\u001b[0m\u001b[0;34m\u001b[0m\u001b[0m\n\u001b[0m",
      "\u001b[0;31mNameError\u001b[0m: name 'homework' is not defined"
     ]
    }
   ],
   "source": [
    "homework.square_footage(10,30)"
   ]
  },
  {
   "cell_type": "code",
   "execution_count": null,
   "metadata": {},
   "outputs": [],
   "source": [
    "homework.circumference(10)"
   ]
  },
  {
   "cell_type": "code",
   "execution_count": 19,
   "metadata": {},
   "outputs": [
    {
     "name": "stdout",
     "output_type": "stream",
     "text": [
      "Please respond with either a 1 or a 2\n"
     ]
    },
    {
     "ename": "NameError",
     "evalue": "name 'homework' is not defined",
     "output_type": "error",
     "traceback": [
      "\u001b[0;31m---------------------------------------------------------------------------\u001b[0m",
      "\u001b[0;31mNameError\u001b[0m                                 Traceback (most recent call last)",
      "\u001b[0;32m/var/folders/72/g1j7yk411mv9snffyg048wv00000gn/T/ipykernel_25065/894494998.py\u001b[0m in \u001b[0;36m<module>\u001b[0;34m\u001b[0m\n\u001b[1;32m     12\u001b[0m         \u001b[0mprint\u001b[0m\u001b[0;34m(\u001b[0m\u001b[0;34mf'The circumference is {homework.findareacircle(radius)}'\u001b[0m\u001b[0;34m)\u001b[0m\u001b[0;34m\u001b[0m\u001b[0;34m\u001b[0m\u001b[0m\n\u001b[1;32m     13\u001b[0m \u001b[0;34m\u001b[0m\u001b[0m\n\u001b[0;32m---> 14\u001b[0;31m \u001b[0mcalculate\u001b[0m\u001b[0;34m(\u001b[0m\u001b[0;34m)\u001b[0m\u001b[0;34m\u001b[0m\u001b[0;34m\u001b[0m\u001b[0m\n\u001b[0m",
      "\u001b[0;32m/var/folders/72/g1j7yk411mv9snffyg048wv00000gn/T/ipykernel_25065/894494998.py\u001b[0m in \u001b[0;36mcalculate\u001b[0;34m()\u001b[0m\n\u001b[1;32m      7\u001b[0m         \u001b[0mlength\u001b[0m \u001b[0;34m=\u001b[0m \u001b[0mint\u001b[0m\u001b[0;34m(\u001b[0m\u001b[0minput\u001b[0m\u001b[0;34m(\u001b[0m\u001b[0;34m'What is the length of your house? '\u001b[0m\u001b[0;34m)\u001b[0m\u001b[0;34m)\u001b[0m\u001b[0;34m\u001b[0m\u001b[0;34m\u001b[0m\u001b[0m\n\u001b[1;32m      8\u001b[0m         \u001b[0mwidth\u001b[0m \u001b[0;34m=\u001b[0m \u001b[0mint\u001b[0m\u001b[0;34m(\u001b[0m\u001b[0minput\u001b[0m\u001b[0;34m(\u001b[0m\u001b[0;34m'What is the width of your house? '\u001b[0m\u001b[0;34m)\u001b[0m\u001b[0;34m)\u001b[0m\u001b[0;34m\u001b[0m\u001b[0;34m\u001b[0m\u001b[0m\n\u001b[0;32m----> 9\u001b[0;31m         \u001b[0mprint\u001b[0m\u001b[0;34m(\u001b[0m\u001b[0;34mf'Your house has a square footage of {homework.findareasquare(length, width)} feet.'\u001b[0m\u001b[0;34m)\u001b[0m\u001b[0;34m\u001b[0m\u001b[0;34m\u001b[0m\u001b[0m\n\u001b[0m\u001b[1;32m     10\u001b[0m     \u001b[0;32melse\u001b[0m\u001b[0;34m:\u001b[0m\u001b[0;34m\u001b[0m\u001b[0;34m\u001b[0m\u001b[0m\n\u001b[1;32m     11\u001b[0m         \u001b[0mradius\u001b[0m \u001b[0;34m=\u001b[0m \u001b[0mint\u001b[0m\u001b[0;34m(\u001b[0m\u001b[0minput\u001b[0m\u001b[0;34m(\u001b[0m\u001b[0;34m'What is the radius of your circle?'\u001b[0m\u001b[0;34m)\u001b[0m\u001b[0;34m)\u001b[0m\u001b[0;34m\u001b[0m\u001b[0;34m\u001b[0m\u001b[0m\n",
      "\u001b[0;31mNameError\u001b[0m: name 'homework' is not defined"
     ]
    }
   ],
   "source": [
    "def calculate():\n",
    "    response = input(\"What would you like to calculate: 1. Area of House or 2. Circumference? \")\n",
    "    while response not in '12':\n",
    "        print('Please respond with either a 1 or a 2')\n",
    "        response = input(\"What would you like to calculate: 1. Area of House or 2. Circumference? \")\n",
    "    if response == '1':\n",
    "        length = int(input('What is the length of your house? '))\n",
    "        width = int(input('What is the width of your house? '))\n",
    "        print(f'Your house has a square footage of {homework.findareasquare(length, width)} feet.')\n",
    "    else:\n",
    "        radius = int(input('What is the radius of your circle?'))\n",
    "        print(f'The circumference is {homework.findareacircle(radius)}')\n",
    "        \n",
    "calculate()"
   ]
  }
 ],
 "metadata": {
  "interpreter": {
   "hash": "aee8b7b246df8f9039afb4144a1f6fd8d2ca17a180786b69acc140d282b71a49"
  },
  "kernelspec": {
   "display_name": "Python 3.9.7 64-bit",
   "language": "python",
   "name": "python3"
  },
  "language_info": {
   "codemirror_mode": {
    "name": "ipython",
    "version": 3
   },
   "file_extension": ".py",
   "mimetype": "text/x-python",
   "name": "python",
   "nbconvert_exporter": "python",
   "pygments_lexer": "ipython3",
   "version": "3.9.7"
  },
  "orig_nbformat": 4
 },
 "nbformat": 4,
 "nbformat_minor": 2
}
