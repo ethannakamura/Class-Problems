{
 "cells": [
  {
   "cell_type": "markdown",
   "metadata": {},
   "source": [
    "### Exercise 1 - Turn the shopping cart program from yesterday into an object-oriented program\n",
    "\n",
    "The comments in the cell below are there as a guide for thinking about the problem. However, if you feel a different way is best for you and your own thought process, please do what feels best for you by all means."
   ]
  },
  {
   "cell_type": "code",
   "execution_count": 6,
   "metadata": {},
   "outputs": [
    {
     "ename": "NameError",
     "evalue": "name 'self' is not defined",
     "output_type": "error",
     "traceback": [
      "\u001b[0;31m---------------------------------------------------------------------------\u001b[0m",
      "\u001b[0;31mNameError\u001b[0m                                 Traceback (most recent call last)",
      "\u001b[0;32m/var/folders/72/g1j7yk411mv9snffyg048wv00000gn/T/ipykernel_51016/3952284735.py\u001b[0m in \u001b[0;36m<module>\u001b[0;34m\u001b[0m\n\u001b[1;32m     31\u001b[0m \u001b[0mremovit\u001b[0m \u001b[0;34m=\u001b[0m \u001b[0mCart\u001b[0m\u001b[0;34m\u001b[0m\u001b[0;34m\u001b[0m\u001b[0m\n\u001b[1;32m     32\u001b[0m \u001b[0mshowit\u001b[0m \u001b[0;34m=\u001b[0m \u001b[0mCart\u001b[0m\u001b[0;34m\u001b[0m\u001b[0;34m\u001b[0m\u001b[0m\n\u001b[0;32m---> 33\u001b[0;31m \u001b[0maddit\u001b[0m\u001b[0;34m.\u001b[0m\u001b[0madditems\u001b[0m\u001b[0;34m(\u001b[0m\u001b[0mself\u001b[0m\u001b[0;34m)\u001b[0m\u001b[0;34m\u001b[0m\u001b[0;34m\u001b[0m\u001b[0m\n\u001b[0m\u001b[1;32m     34\u001b[0m \u001b[0mremovit\u001b[0m\u001b[0;34m.\u001b[0m\u001b[0mremovitems\u001b[0m\u001b[0;34m(\u001b[0m\u001b[0mself\u001b[0m\u001b[0;34m)\u001b[0m\u001b[0;34m\u001b[0m\u001b[0;34m\u001b[0m\u001b[0m\n\u001b[1;32m     35\u001b[0m \u001b[0mshowit\u001b[0m\u001b[0;34m.\u001b[0m\u001b[0mshowitems\u001b[0m\u001b[0;34m(\u001b[0m\u001b[0mself\u001b[0m\u001b[0;34m)\u001b[0m\u001b[0;34m\u001b[0m\u001b[0;34m\u001b[0m\u001b[0m\n",
      "\u001b[0;31mNameError\u001b[0m: name 'self' is not defined"
     ]
    }
   ],
   "source": [
    "# Create a class called cart that retains items and has methods to add, remove, and show\n",
    "\n",
    "class Cart:\n",
    "    def __init__(self):\n",
    "        self.addit = \"\"\n",
    "        self.removit = \"\"\n",
    "        self.showit = \"\"\n",
    "\n",
    "    def additems(self):\n",
    "        self.addit = input('What items would you like to add to your cart?')\n",
    "        for x in input:\n",
    "            print(Cart.append())\n",
    "    \n",
    "    def removitems(self):\n",
    "        self.removit = input('What items would you like to remove from your cart? (Type quit to stop.')\n",
    "        for x in input:\n",
    "            print(Cart.remove())\n",
    "            if input == 'quit':\n",
    "                break\n",
    "        \n",
    "    def showitems(self):\n",
    "        self.showit = input(\"To view your items type: review\")\n",
    "        if input == 'review':\n",
    "            print(Cart)\n",
    "        else:\n",
    "            print('Thank you for shopping with us')\n",
    "    \n",
    "\n",
    "\n",
    "addit = Cart\n",
    "removit = Cart\n",
    "showit = Cart\n",
    "addit.additems(self)\n",
    "removit.removitems(self)\n",
    "showit.showitems(self)\n"
   ]
  },
  {
   "cell_type": "code",
   "execution_count": 2,
   "metadata": {},
   "outputs": [
    {
     "name": "stdout",
     "output_type": "stream",
     "text": [
      "Invalid input, please try again\n",
      "Thank you for shopping\n",
      "fYour cart currently contains:\n",
      "{cart}\n"
     ]
    }
   ],
   "source": [
    "\n",
    "\n",
    "\n",
    "\n",
    "#wrote penguin in cart as a placeholder to test scripting as writing\n",
    "cart = []\n",
    "\n",
    "#step 3 add while loop, then indent everything after\n",
    "while True:\n",
    "    choice = input('What would you like to do?\\n[1] Show Current Cart [2] Add Item \\n [3] Remove item \\n [4] Quit \\n')\n",
    "    if choice == '1':\n",
    "        #step1 wrote - print('show') run script while you further expand on each problem\n",
    "        #step3 new print statement\n",
    "        print(f'Your cart currently contains:\\n{cart}')\n",
    "    elif choice == '2':\n",
    "    #step1 wrote - print('add') run script while you further expand on each problem\n",
    "    #step2 added - new item. cart.append, new print statement\n",
    "        newitem = input('What would you like to add to your cart?')\n",
    "        cart.append(newitem)\n",
    "        print(f'{newitem} has been added to your cart.')\n",
    "    elif choice == '3':\n",
    "    #step1 wrote - print('remove') run script while you further expand on each problem\n",
    "        print(f'Your cart currently contains:\\n:{cart}')\n",
    "        remov = input('What would you like to remove from your cart? (capitalization matters)')\n",
    "        try:\n",
    "            cart.remove(remov)\n",
    "            print(f'{remov} was successfully removed from your cart.')\n",
    "        except:\n",
    "            print(f'{remov} was not in your cart.')\n",
    "    elif choice == '4':\n",
    "        #step1 wrote - print('quit') run script while you further expand on each problem\n",
    "        #step2 added two print statements\n",
    "        print('Thank you for shopping')\n",
    "        print('fYour cart currently contains:\\n{cart}')\n",
    "        break\n",
    "    #step 3 added break, remove penguin, and you can start testing items like normal\n",
    "    else:\n",
    "        print('Invalid input, please try again')\n",
    "    \n",
    "    #fancy print statement he has a for/index loop looping through the items in the cart\n",
    "    #\n"
   ]
  },
  {
   "cell_type": "markdown",
   "metadata": {},
   "source": [
    "### Exercise 2 - Write a Python class which has two methods get_String and print_String. get_String accept a string from the user and print_String print the string in upper case"
   ]
  },
  {
   "cell_type": "code",
   "execution_count": 19,
   "metadata": {},
   "outputs": [
    {
     "name": "stdout",
     "output_type": "stream",
     "text": [
      "OH YEAHHHHHH\n"
     ]
    }
   ],
   "source": [
    "#write two additional methods\n",
    "#these methods are:\n",
    "#1. getstring\n",
    "    #accepts a string \"\" from user input\n",
    "    #need to use input method\n",
    "#2. print_string\n",
    "    #needs to print the string out in upper case\n",
    "\n",
    "class stringcheese():\n",
    "    def __init__(self):\n",
    "        self.str1 = \"\"\n",
    "    \n",
    "    def get_string(self):\n",
    "        self.str1 = input()\n",
    "    \n",
    "    def print_string(self):\n",
    "        print(self.str1.upper())\n",
    "\n",
    "str1 = stringcheese()\n",
    "str1.get_string()\n",
    "str1.print_string()"
   ]
  }
 ],
 "metadata": {
  "interpreter": {
   "hash": "aee8b7b246df8f9039afb4144a1f6fd8d2ca17a180786b69acc140d282b71a49"
  },
  "kernelspec": {
   "display_name": "Python 3.9.7 64-bit",
   "language": "python",
   "name": "python3"
  },
  "language_info": {
   "codemirror_mode": {
    "name": "ipython",
    "version": 3
   },
   "file_extension": ".py",
   "mimetype": "text/x-python",
   "name": "python",
   "nbconvert_exporter": "python",
   "pygments_lexer": "ipython3",
   "version": "3.9.7"
  },
  "orig_nbformat": 4
 },
 "nbformat": 4,
 "nbformat_minor": 2
}
